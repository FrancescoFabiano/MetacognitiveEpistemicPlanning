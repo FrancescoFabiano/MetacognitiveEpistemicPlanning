{
 "cells": [
  {
   "cell_type": "code",
   "execution_count": 3,
   "metadata": {},
   "outputs": [],
   "source": [
    "# Load core code as library\n",
    "# Use plans of blocks world and show working of case library in this notebook\n",
    "\n",
    "import sys\n",
    "sys.path.append('../code_core')\n",
    "from s1_solver import *"
   ]
  },
  {
   "cell_type": "code",
   "execution_count": 1,
   "metadata": {},
   "outputs": [
    {
     "name": "stdout",
     "output_type": "stream",
     "text": [
      "['(stack a b)', '(stack b c)']\n"
     ]
    }
   ],
   "source": [
    "# Example input \n",
    "# goal = (stack a b),(stack b c)\n",
    "\n",
    "goal = input(\"Enter the goal states\").split(',')\n",
    "mem_path = \"../../cases/blockworld-plans/\"\n",
    "\n",
    "print(goal)"
   ]
  },
  {
   "cell_type": "code",
   "execution_count": null,
   "metadata": {},
   "outputs": [],
   "source": [
    "s1Solver(goal,mem_path)"
   ]
  }
 ],
 "metadata": {
  "interpreter": {
   "hash": "fa71f0efbc7f2d65b02cc0590f27cb3fcd4e7b48190bca20ac07610d539f429c"
  },
  "kernelspec": {
   "display_name": "Python 3.10.0 64-bit",
   "name": "python3"
  },
  "language_info": {
   "codemirror_mode": {
    "name": "ipython",
    "version": 3
   },
   "file_extension": ".py",
   "mimetype": "text/x-python",
   "name": "python",
   "nbconvert_exporter": "python",
   "pygments_lexer": "ipython3",
   "version": "3.10.0"
  }
 },
 "nbformat": 4,
 "nbformat_minor": 4
}
