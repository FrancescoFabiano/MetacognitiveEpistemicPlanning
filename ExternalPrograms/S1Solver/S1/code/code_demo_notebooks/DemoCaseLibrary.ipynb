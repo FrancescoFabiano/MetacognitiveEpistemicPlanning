{
 "cells": [
  {
   "cell_type": "code",
   "execution_count": 8,
   "metadata": {},
   "outputs": [],
   "source": [
    "# Load core code as library\n",
    "# Call core code and show its working in this notebook\n",
    "\n",
    "# Find_Cases function initial implementation\n",
    "\n",
    "import json\n",
    "import os\n",
    "import sys\n",
    "sys.path.append('../code_core')\n",
    "\n",
    "from ranking_algorithm import *\n",
    "\n",
    "f = open( '../../cases/cases.json' )\n",
    "data = json.load(f)"
   ]
  },
  {
   "cell_type": "code",
   "execution_count": 9,
   "metadata": {},
   "outputs": [],
   "source": [
    "# Sample input \n",
    "\n",
    "# {\"domain\": 'blockworld', \"init\": ['(on-table a)','(clear b)'] ,\"goal\": ['(on a b)','(on b c)']}\n",
    "import ast\n",
    "\n",
    "input_dict = input(\"Enter Input\")\n",
    "res = ast.literal_eval(input_dict)\n",
    "\n",
    "Domain = res[\"domain\"]\n",
    "init = res[\"init\"]\n",
    "goal = res[\"goal\"]"
   ]
  },
  {
   "cell_type": "code",
   "execution_count": 10,
   "metadata": {},
   "outputs": [
    {
     "name": "stdout",
     "output_type": "stream",
     "text": [
      "Following are the matching plan files ranked based on the number of steps to reach the goal:\n",
      "\n",
      "(2, 'blockworld-plans/plan_1.txt')\n",
      "(4, 'blockworld-plans/plan_12.txt')\n",
      "(8, 'blockworld-plans/plan_14.txt')\n",
      "(10, 'blockworld-plans/plan_2.txt')\n",
      "(12, 'blockworld-plans/plan_13.txt')\n",
      "(12, 'blockworld-plans/plan_3.txt')\n",
      "(14, 'blockworld-plans/plan_4.txt')\n",
      "(16, 'blockworld-plans/plan_5.txt')\n",
      "(18, 'blockworld-plans/plan_6.txt')\n",
      "(20, 'blockworld-plans/plan_7.txt')\n",
      "(22, 'blockworld-plans/plan_8.txt')\n",
      "(24, 'blockworld-plans/plan_9.txt')\n",
      "(26, 'blockworld-plans/plan_10.txt')\n",
      "(28, 'blockworld-plans/plan_11.txt')\n"
     ]
    }
   ],
   "source": [
    "index = max( [int(k) for k in data['cases'].keys()] )\n",
    "\n",
    "res_plans = []\n",
    "ranks = []\n",
    "\n",
    "if Domain == str(0):\n",
    "\n",
    "    for i in range(1, index+1):\n",
    "\n",
    "        temp_init = data[\"cases\"][str(i)][\"initial\"]\n",
    "        temp_goal = data[\"cases\"][str(i)][\"goal\"]\n",
    "\n",
    "        check_init = any(item in init for item in temp_init)\n",
    "        check_goal = any(item in goal for item in temp_goal)\n",
    "\n",
    "        if check_init == True or check_goal == True:\n",
    "            res_plans.append(data[\"cases\"][str(i)][\"Index\"])\n",
    "            ranks.append( RankPlan(data[\"cases\"][str(i)][\"Index\"]) )\n",
    "\n",
    "else:\n",
    "\n",
    "    for i in range(1, index+1):\n",
    "\n",
    "        if data[\"cases\"][str(i)][\"Planning_Domain\"] == Domain:\n",
    "\n",
    "            temp_init = data[\"cases\"][str(i)][\"initial\"]\n",
    "            temp_goal = data[\"cases\"][str(i)][\"goal\"]\n",
    "\n",
    "            check_init = any(item in init for item in temp_init)\n",
    "            check_goal = any(item in goal for item in temp_goal)\n",
    "\n",
    "            if check_init == True or check_goal == True:\n",
    "                res_plans.append(data[\"cases\"][str(i)][\"Index\"])\n",
    "                ranks.append( RankPlan(data[\"cases\"][str(i)][\"Index\"]) )\n",
    "\n",
    "print(\"Following are the matching plan files ranked based on the number of steps to reach the goal:\\n\")\n",
    "for i in sorted(zip(ranks,res_plans)):\n",
    "    print(i)"
   ]
  }
 ],
 "metadata": {
  "interpreter": {
   "hash": "fa71f0efbc7f2d65b02cc0590f27cb3fcd4e7b48190bca20ac07610d539f429c"
  },
  "kernelspec": {
   "display_name": "Python 3.10.0 64-bit",
   "name": "python3"
  },
  "language_info": {
   "codemirror_mode": {
    "name": "ipython",
    "version": 3
   },
   "file_extension": ".py",
   "mimetype": "text/x-python",
   "name": "python",
   "nbconvert_exporter": "python",
   "pygments_lexer": "ipython3",
   "version": "3.10.0"
  }
 },
 "nbformat": 4,
 "nbformat_minor": 4
}
